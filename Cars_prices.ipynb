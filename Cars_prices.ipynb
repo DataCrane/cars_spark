{
 "cells": [
  {
   "cell_type": "code",
   "execution_count": 1,
   "metadata": {},
   "outputs": [],
   "source": [
    "import findspark\n",
    "findspark.init()"
   ]
  },
  {
   "cell_type": "code",
   "execution_count": 2,
   "metadata": {},
   "outputs": [],
   "source": [
    "from pyspark.sql import SparkSession\n",
    "from pyspark import SparkConf, SparkContext\n",
    "\n",
    "# spark = SparkSession.builder.appName(\"CarsCSVLoad\").getOrCreate()"
   ]
  },
  {
   "cell_type": "code",
   "execution_count": 3,
   "metadata": {},
   "outputs": [],
   "source": [
    "# conf = SparkConf().setAppName(\"cars\").setMaster(\"local[4]\")\n",
    "# sc = SparkContext(conf)\n",
    "# spark = SparkSession(sc)"
   ]
  },
  {
   "cell_type": "code",
   "execution_count": 4,
   "metadata": {},
   "outputs": [],
   "source": [
    "def run():\n",
    "    from pyspark import SparkContext, SparkConf\n",
    "\n",
    "    conf = SparkConf()\n",
    "    conf.setAppName('cars')\n",
    "    conf.set(\"spark.driver.memory\", \"5g\")\n",
    "    conf.set(\"spark.driver.memoryOverhead\", \"0.10\")\n",
    "    sc = SparkContext(conf=conf)\n",
    "    \n",
    "    return sc\n",
    "\n",
    "spark = SparkSession(run())"
   ]
  },
  {
   "cell_type": "code",
   "execution_count": 5,
   "metadata": {},
   "outputs": [],
   "source": [
    "from pyspark.sql.functions import isnan, when, count, col"
   ]
  },
  {
   "cell_type": "code",
   "execution_count": 3,
   "metadata": {},
   "outputs": [],
   "source": [
    "df = spark.read.options(delimiter = '.').csv(path = \"used_cars_data.csv\", sep = ',',  header = True)"
   ]
  },
  {
   "cell_type": "code",
   "execution_count": 4,
   "metadata": {
    "scrolled": true
   },
   "outputs": [
    {
     "data": {
      "text/plain": [
       "DataFrame[vin: string, back_legroom: string, bed: string, bed_height: string, bed_length: string, body_type: string, cabin: string, city: string, city_fuel_economy: string, combine_fuel_economy: string, daysonmarket: string, dealer_zip: string, description: string, engine_cylinders: string, engine_displacement: string, engine_type: string, exterior_color: string, fleet: string, frame_damaged: string, franchise_dealer: string, franchise_make: string, front_legroom: string, fuel_tank_volume: string, fuel_type: string, has_accidents: string, height: string, highway_fuel_economy: string, horsepower: string, interior_color: string, isCab: string, is_certified: string, is_cpo: string, is_new: string, is_oemcpo: string, latitude: string, length: string, listed_date: string, listing_color: string, listing_id: string, longitude: string, main_picture_url: string, major_options: string, make_name: string, maximum_seating: string, mileage: string, model_name: string, owner_count: string, power: string, price: string, salvage: string, savings_amount: string, seller_rating: string, sp_id: string, sp_name: string, theft_title: string, torque: string, transmission: string, transmission_display: string, trimId: string, trim_name: string, vehicle_damage_category: string, wheel_system: string, wheel_system_display: string, wheelbase: string, width: string, year: string]"
      ]
     },
     "metadata": {},
     "output_type": "display_data"
    }
   ],
   "source": [
    "display(df)\n"
   ]
  },
  {
   "cell_type": "code",
   "execution_count": 5,
   "metadata": {
    "scrolled": true
   },
   "outputs": [
    {
     "ename": "AnalysisException",
     "evalue": "path file:/tmp/parquet/cars.parquet already exists.",
     "output_type": "error",
     "traceback": [
      "\u001b[1;31m---------------------------------------------------------------------------\u001b[0m",
      "\u001b[1;31mAnalysisException\u001b[0m                         Traceback (most recent call last)",
      "\u001b[1;32m<ipython-input-5-f63d0039438c>\u001b[0m in \u001b[0;36m<module>\u001b[1;34m\u001b[0m\n\u001b[0;32m      1\u001b[0m \u001b[1;31m# to parquet\u001b[0m\u001b[1;33m\u001b[0m\u001b[1;33m\u001b[0m\u001b[1;33m\u001b[0m\u001b[0m\n\u001b[1;32m----> 2\u001b[1;33m \u001b[0mdf\u001b[0m\u001b[1;33m.\u001b[0m\u001b[0mwrite\u001b[0m\u001b[1;33m.\u001b[0m\u001b[0mparquet\u001b[0m\u001b[1;33m(\u001b[0m\u001b[1;34m\"/tmp/parquet/cars.parquet\"\u001b[0m\u001b[1;33m)\u001b[0m\u001b[1;33m\u001b[0m\u001b[1;33m\u001b[0m\u001b[0m\n\u001b[0m",
      "\u001b[1;32mC:\\Spark\\spark-3.1.2-bin-hadoop3.2\\python\\pyspark\\sql\\readwriter.py\u001b[0m in \u001b[0;36mparquet\u001b[1;34m(self, path, mode, partitionBy, compression)\u001b[0m\n\u001b[0;32m   1248\u001b[0m             \u001b[0mself\u001b[0m\u001b[1;33m.\u001b[0m\u001b[0mpartitionBy\u001b[0m\u001b[1;33m(\u001b[0m\u001b[0mpartitionBy\u001b[0m\u001b[1;33m)\u001b[0m\u001b[1;33m\u001b[0m\u001b[1;33m\u001b[0m\u001b[0m\n\u001b[0;32m   1249\u001b[0m         \u001b[0mself\u001b[0m\u001b[1;33m.\u001b[0m\u001b[0m_set_opts\u001b[0m\u001b[1;33m(\u001b[0m\u001b[0mcompression\u001b[0m\u001b[1;33m=\u001b[0m\u001b[0mcompression\u001b[0m\u001b[1;33m)\u001b[0m\u001b[1;33m\u001b[0m\u001b[1;33m\u001b[0m\u001b[0m\n\u001b[1;32m-> 1250\u001b[1;33m         \u001b[0mself\u001b[0m\u001b[1;33m.\u001b[0m\u001b[0m_jwrite\u001b[0m\u001b[1;33m.\u001b[0m\u001b[0mparquet\u001b[0m\u001b[1;33m(\u001b[0m\u001b[0mpath\u001b[0m\u001b[1;33m)\u001b[0m\u001b[1;33m\u001b[0m\u001b[1;33m\u001b[0m\u001b[0m\n\u001b[0m\u001b[0;32m   1251\u001b[0m \u001b[1;33m\u001b[0m\u001b[0m\n\u001b[0;32m   1252\u001b[0m     \u001b[1;32mdef\u001b[0m \u001b[0mtext\u001b[0m\u001b[1;33m(\u001b[0m\u001b[0mself\u001b[0m\u001b[1;33m,\u001b[0m \u001b[0mpath\u001b[0m\u001b[1;33m,\u001b[0m \u001b[0mcompression\u001b[0m\u001b[1;33m=\u001b[0m\u001b[1;32mNone\u001b[0m\u001b[1;33m,\u001b[0m \u001b[0mlineSep\u001b[0m\u001b[1;33m=\u001b[0m\u001b[1;32mNone\u001b[0m\u001b[1;33m)\u001b[0m\u001b[1;33m:\u001b[0m\u001b[1;33m\u001b[0m\u001b[1;33m\u001b[0m\u001b[0m\n",
      "\u001b[1;32mC:\\Spark\\spark-3.1.2-bin-hadoop3.2\\python\\lib\\py4j-0.10.9-src.zip\\py4j\\java_gateway.py\u001b[0m in \u001b[0;36m__call__\u001b[1;34m(self, *args)\u001b[0m\n\u001b[0;32m   1303\u001b[0m         \u001b[0manswer\u001b[0m \u001b[1;33m=\u001b[0m \u001b[0mself\u001b[0m\u001b[1;33m.\u001b[0m\u001b[0mgateway_client\u001b[0m\u001b[1;33m.\u001b[0m\u001b[0msend_command\u001b[0m\u001b[1;33m(\u001b[0m\u001b[0mcommand\u001b[0m\u001b[1;33m)\u001b[0m\u001b[1;33m\u001b[0m\u001b[1;33m\u001b[0m\u001b[0m\n\u001b[0;32m   1304\u001b[0m         return_value = get_return_value(\n\u001b[1;32m-> 1305\u001b[1;33m             answer, self.gateway_client, self.target_id, self.name)\n\u001b[0m\u001b[0;32m   1306\u001b[0m \u001b[1;33m\u001b[0m\u001b[0m\n\u001b[0;32m   1307\u001b[0m         \u001b[1;32mfor\u001b[0m \u001b[0mtemp_arg\u001b[0m \u001b[1;32min\u001b[0m \u001b[0mtemp_args\u001b[0m\u001b[1;33m:\u001b[0m\u001b[1;33m\u001b[0m\u001b[1;33m\u001b[0m\u001b[0m\n",
      "\u001b[1;32mC:\\Spark\\spark-3.1.2-bin-hadoop3.2\\python\\pyspark\\sql\\utils.py\u001b[0m in \u001b[0;36mdeco\u001b[1;34m(*a, **kw)\u001b[0m\n\u001b[0;32m    115\u001b[0m                 \u001b[1;31m# Hide where the exception came from that shows a non-Pythonic\u001b[0m\u001b[1;33m\u001b[0m\u001b[1;33m\u001b[0m\u001b[1;33m\u001b[0m\u001b[0m\n\u001b[0;32m    116\u001b[0m                 \u001b[1;31m# JVM exception message.\u001b[0m\u001b[1;33m\u001b[0m\u001b[1;33m\u001b[0m\u001b[1;33m\u001b[0m\u001b[0m\n\u001b[1;32m--> 117\u001b[1;33m                 \u001b[1;32mraise\u001b[0m \u001b[0mconverted\u001b[0m \u001b[1;32mfrom\u001b[0m \u001b[1;32mNone\u001b[0m\u001b[1;33m\u001b[0m\u001b[1;33m\u001b[0m\u001b[0m\n\u001b[0m\u001b[0;32m    118\u001b[0m             \u001b[1;32melse\u001b[0m\u001b[1;33m:\u001b[0m\u001b[1;33m\u001b[0m\u001b[1;33m\u001b[0m\u001b[0m\n\u001b[0;32m    119\u001b[0m                 \u001b[1;32mraise\u001b[0m\u001b[1;33m\u001b[0m\u001b[1;33m\u001b[0m\u001b[0m\n",
      "\u001b[1;31mAnalysisException\u001b[0m: path file:/tmp/parquet/cars.parquet already exists."
     ]
    }
   ],
   "source": [
    "# to parquet\n",
    "df.write.parquet(\"/tmp/parquet/cars.parquet\")"
   ]
  },
  {
   "cell_type": "code",
   "execution_count": 7,
   "metadata": {},
   "outputs": [],
   "source": [
    "parDF=spark.read.parquet(\"/tmp/parquet/cars.parquet\")"
   ]
  },
  {
   "cell_type": "code",
   "execution_count": 8,
   "metadata": {},
   "outputs": [
    {
     "data": {
      "text/plain": [
       "66"
      ]
     },
     "execution_count": 8,
     "metadata": {},
     "output_type": "execute_result"
    }
   ],
   "source": [
    "# show # ofcolumns \n",
    "len(parDF.columns)"
   ]
  },
  {
   "cell_type": "code",
   "execution_count": 9,
   "metadata": {},
   "outputs": [
    {
     "name": "stdout",
     "output_type": "stream",
     "text": [
      "root\n",
      " |-- vin: string (nullable = true)\n",
      " |-- back_legroom: string (nullable = true)\n",
      " |-- bed: string (nullable = true)\n",
      " |-- bed_height: string (nullable = true)\n",
      " |-- bed_length: string (nullable = true)\n",
      " |-- body_type: string (nullable = true)\n",
      " |-- cabin: string (nullable = true)\n",
      " |-- city: string (nullable = true)\n",
      " |-- city_fuel_economy: string (nullable = true)\n",
      " |-- combine_fuel_economy: string (nullable = true)\n",
      " |-- daysonmarket: string (nullable = true)\n",
      " |-- dealer_zip: string (nullable = true)\n",
      " |-- description: string (nullable = true)\n",
      " |-- engine_cylinders: string (nullable = true)\n",
      " |-- engine_displacement: string (nullable = true)\n",
      " |-- engine_type: string (nullable = true)\n",
      " |-- exterior_color: string (nullable = true)\n",
      " |-- fleet: string (nullable = true)\n",
      " |-- frame_damaged: string (nullable = true)\n",
      " |-- franchise_dealer: string (nullable = true)\n",
      " |-- franchise_make: string (nullable = true)\n",
      " |-- front_legroom: string (nullable = true)\n",
      " |-- fuel_tank_volume: string (nullable = true)\n",
      " |-- fuel_type: string (nullable = true)\n",
      " |-- has_accidents: string (nullable = true)\n",
      " |-- height: string (nullable = true)\n",
      " |-- highway_fuel_economy: string (nullable = true)\n",
      " |-- horsepower: string (nullable = true)\n",
      " |-- interior_color: string (nullable = true)\n",
      " |-- isCab: string (nullable = true)\n",
      " |-- is_certified: string (nullable = true)\n",
      " |-- is_cpo: string (nullable = true)\n",
      " |-- is_new: string (nullable = true)\n",
      " |-- is_oemcpo: string (nullable = true)\n",
      " |-- latitude: string (nullable = true)\n",
      " |-- length: string (nullable = true)\n",
      " |-- listed_date: string (nullable = true)\n",
      " |-- listing_color: string (nullable = true)\n",
      " |-- listing_id: string (nullable = true)\n",
      " |-- longitude: string (nullable = true)\n",
      " |-- main_picture_url: string (nullable = true)\n",
      " |-- major_options: string (nullable = true)\n",
      " |-- make_name: string (nullable = true)\n",
      " |-- maximum_seating: string (nullable = true)\n",
      " |-- mileage: string (nullable = true)\n",
      " |-- model_name: string (nullable = true)\n",
      " |-- owner_count: string (nullable = true)\n",
      " |-- power: string (nullable = true)\n",
      " |-- price: string (nullable = true)\n",
      " |-- salvage: string (nullable = true)\n",
      " |-- savings_amount: string (nullable = true)\n",
      " |-- seller_rating: string (nullable = true)\n",
      " |-- sp_id: string (nullable = true)\n",
      " |-- sp_name: string (nullable = true)\n",
      " |-- theft_title: string (nullable = true)\n",
      " |-- torque: string (nullable = true)\n",
      " |-- transmission: string (nullable = true)\n",
      " |-- transmission_display: string (nullable = true)\n",
      " |-- trimId: string (nullable = true)\n",
      " |-- trim_name: string (nullable = true)\n",
      " |-- vehicle_damage_category: string (nullable = true)\n",
      " |-- wheel_system: string (nullable = true)\n",
      " |-- wheel_system_display: string (nullable = true)\n",
      " |-- wheelbase: string (nullable = true)\n",
      " |-- width: string (nullable = true)\n",
      " |-- year: string (nullable = true)\n",
      "\n"
     ]
    }
   ],
   "source": [
    "parDF.printSchema()"
   ]
  },
  {
   "cell_type": "code",
   "execution_count": 10,
   "metadata": {
    "scrolled": false
   },
   "outputs": [
    {
     "name": "stdout",
     "output_type": "stream",
     "text": [
      "+---+------------+---+----------+----------+---------+-----+----+-----------------+--------------------+------------+----------+-----------+----------------+-------------------+-----------+--------------+-----+-------------+----------------+--------------+-------------+----------------+---------+-------------+------+--------------------+----------+--------------+-----+------------+------+------+---------+--------+------+-----------+-------------+----------+---------+----------------+-------------+---------+---------------+-------+----------+-----------+-----+-----+-------+--------------+-------------+-----+-------+-----------+------+------------+--------------------+------+---------+-----------------------+------------+--------------------+---------+-----+----+\n",
      "|vin|back_legroom|bed|bed_height|bed_length|body_type|cabin|city|city_fuel_economy|combine_fuel_economy|daysonmarket|dealer_zip|description|engine_cylinders|engine_displacement|engine_type|exterior_color|fleet|frame_damaged|franchise_dealer|franchise_make|front_legroom|fuel_tank_volume|fuel_type|has_accidents|height|highway_fuel_economy|horsepower|interior_color|isCab|is_certified|is_cpo|is_new|is_oemcpo|latitude|length|listed_date|listing_color|listing_id|longitude|main_picture_url|major_options|make_name|maximum_seating|mileage|model_name|owner_count|power|price|salvage|savings_amount|seller_rating|sp_id|sp_name|theft_title|torque|transmission|transmission_display|trimId|trim_name|vehicle_damage_category|wheel_system|wheel_system_display|wheelbase|width|year|\n",
      "+---+------------+---+----------+----------+---------+-----+----+-----------------+--------------------+------------+----------+-----------+----------------+-------------------+-----------+--------------+-----+-------------+----------------+--------------+-------------+----------------+---------+-------------+------+--------------------+----------+--------------+-----+------------+------+------+---------+--------+------+-----------+-------------+----------+---------+----------------+-------------+---------+---------------+-------+----------+-----------+-----+-----+-------+--------------+-------------+-----+-------+-----------+------+------------+--------------------+------+---------+-----------------------+------------+--------------------+---------+-----+----+\n",
      "|  0|           0|  0|         0|         0|        0|    0|   0|                0|                   0|           0|         0|          0|               0|                  0|          0|             0|    0|            0|               0|             0|            0|               0|        0|            0|     0|                   0|         0|             0|    0|           0|     0|     0|        0|       0|     0|          0|            0|         0|        0|               0|            0|        0|              0|      0|         0|          0|    0|    0|      0|             0|            0|    0|      0|          0|     0|           0|                   0|     0|        0|                      0|           0|                   0|        0|    0|   0|\n",
      "+---+------------+---+----------+----------+---------+-----+----+-----------------+--------------------+------------+----------+-----------+----------------+-------------------+-----------+--------------+-----+-------------+----------------+--------------+-------------+----------------+---------+-------------+------+--------------------+----------+--------------+-----+------------+------+------+---------+--------+------+-----------+-------------+----------+---------+----------------+-------------+---------+---------------+-------+----------+-----------+-----+-----+-------+--------------+-------------+-----+-------+-----------+------+------------+--------------------+------+---------+-----------------------+------------+--------------------+---------+-----+----+\n",
      "\n"
     ]
    }
   ],
   "source": [
    "parDF.select([count(when(isnan(c), c)).alias(c) for c in parDF.columns]).show()"
   ]
  },
  {
   "cell_type": "code",
   "execution_count": 14,
   "metadata": {},
   "outputs": [
    {
     "ename": "TypeError",
     "evalue": "Column is not iterable",
     "output_type": "error",
     "traceback": [
      "\u001b[1;31m---------------------------------------------------------------------------\u001b[0m",
      "\u001b[1;31mTypeError\u001b[0m                                 Traceback (most recent call last)",
      "\u001b[1;32m<ipython-input-14-377d0168030b>\u001b[0m in \u001b[0;36m<module>\u001b[1;34m\u001b[0m\n\u001b[1;32m----> 1\u001b[1;33m \u001b[0mparDF\u001b[0m\u001b[1;33m.\u001b[0m\u001b[0mselect\u001b[0m\u001b[1;33m(\u001b[0m\u001b[1;33m[\u001b[0m\u001b[0msum\u001b[0m\u001b[1;33m(\u001b[0m\u001b[0misnan\u001b[0m\u001b[1;33m(\u001b[0m\u001b[0mc\u001b[0m\u001b[1;33m)\u001b[0m\u001b[1;33m)\u001b[0m\u001b[1;33m.\u001b[0m\u001b[0malias\u001b[0m\u001b[1;33m(\u001b[0m\u001b[0mc\u001b[0m\u001b[1;33m)\u001b[0m \u001b[1;32mfor\u001b[0m \u001b[0mc\u001b[0m \u001b[1;32min\u001b[0m \u001b[0mparDF\u001b[0m\u001b[1;33m.\u001b[0m\u001b[0mcolumns\u001b[0m\u001b[1;33m]\u001b[0m\u001b[1;33m)\u001b[0m\u001b[1;33m.\u001b[0m\u001b[0mshow\u001b[0m\u001b[1;33m(\u001b[0m\u001b[1;33m)\u001b[0m\u001b[1;33m\u001b[0m\u001b[1;33m\u001b[0m\u001b[0m\n\u001b[0m",
      "\u001b[1;32m<ipython-input-14-377d0168030b>\u001b[0m in \u001b[0;36m<listcomp>\u001b[1;34m(.0)\u001b[0m\n\u001b[1;32m----> 1\u001b[1;33m \u001b[0mparDF\u001b[0m\u001b[1;33m.\u001b[0m\u001b[0mselect\u001b[0m\u001b[1;33m(\u001b[0m\u001b[1;33m[\u001b[0m\u001b[0msum\u001b[0m\u001b[1;33m(\u001b[0m\u001b[0misnan\u001b[0m\u001b[1;33m(\u001b[0m\u001b[0mc\u001b[0m\u001b[1;33m)\u001b[0m\u001b[1;33m)\u001b[0m\u001b[1;33m.\u001b[0m\u001b[0malias\u001b[0m\u001b[1;33m(\u001b[0m\u001b[0mc\u001b[0m\u001b[1;33m)\u001b[0m \u001b[1;32mfor\u001b[0m \u001b[0mc\u001b[0m \u001b[1;32min\u001b[0m \u001b[0mparDF\u001b[0m\u001b[1;33m.\u001b[0m\u001b[0mcolumns\u001b[0m\u001b[1;33m]\u001b[0m\u001b[1;33m)\u001b[0m\u001b[1;33m.\u001b[0m\u001b[0mshow\u001b[0m\u001b[1;33m(\u001b[0m\u001b[1;33m)\u001b[0m\u001b[1;33m\u001b[0m\u001b[1;33m\u001b[0m\u001b[0m\n\u001b[0m",
      "\u001b[1;32mC:\\Spark\\spark-3.1.2-bin-hadoop3.2\\python\\pyspark\\sql\\column.py\u001b[0m in \u001b[0;36m__iter__\u001b[1;34m(self)\u001b[0m\n\u001b[0;32m    458\u001b[0m \u001b[1;33m\u001b[0m\u001b[0m\n\u001b[0;32m    459\u001b[0m     \u001b[1;32mdef\u001b[0m \u001b[0m__iter__\u001b[0m\u001b[1;33m(\u001b[0m\u001b[0mself\u001b[0m\u001b[1;33m)\u001b[0m\u001b[1;33m:\u001b[0m\u001b[1;33m\u001b[0m\u001b[1;33m\u001b[0m\u001b[0m\n\u001b[1;32m--> 460\u001b[1;33m         \u001b[1;32mraise\u001b[0m \u001b[0mTypeError\u001b[0m\u001b[1;33m(\u001b[0m\u001b[1;34m\"Column is not iterable\"\u001b[0m\u001b[1;33m)\u001b[0m\u001b[1;33m\u001b[0m\u001b[1;33m\u001b[0m\u001b[0m\n\u001b[0m\u001b[0;32m    461\u001b[0m \u001b[1;33m\u001b[0m\u001b[0m\n\u001b[0;32m    462\u001b[0m     \u001b[1;31m# string methods\u001b[0m\u001b[1;33m\u001b[0m\u001b[1;33m\u001b[0m\u001b[1;33m\u001b[0m\u001b[0m\n",
      "\u001b[1;31mTypeError\u001b[0m: Column is not iterable"
     ]
    }
   ],
   "source": [
    "parDF.select([sum(isnan(c)).alias(c) for c in parDF.columns]).show()"
   ]
  },
  {
   "cell_type": "code",
   "execution_count": 9,
   "metadata": {},
   "outputs": [],
   "source": [
    "import pandas as pd\n"
   ]
  },
  {
   "cell_type": "code",
   "execution_count": null,
   "metadata": {},
   "outputs": [],
   "source": [
    "df_firstn = pd.read_csv(\"used_cars_data.csv\", nrows=1000, sep=',')"
   ]
  },
  {
   "cell_type": "code",
   "execution_count": null,
   "metadata": {},
   "outputs": [],
   "source": [
    "df_firstn"
   ]
  },
  {
   "cell_type": "code",
   "execution_count": null,
   "metadata": {},
   "outputs": [],
   "source": []
  }
 ],
 "metadata": {
  "kernelspec": {
   "display_name": "Python 3",
   "language": "python",
   "name": "python3"
  },
  "language_info": {
   "codemirror_mode": {
    "name": "ipython",
    "version": 3
   },
   "file_extension": ".py",
   "mimetype": "text/x-python",
   "name": "python",
   "nbconvert_exporter": "python",
   "pygments_lexer": "ipython3",
   "version": "3.7.6"
  }
 },
 "nbformat": 4,
 "nbformat_minor": 4
}
